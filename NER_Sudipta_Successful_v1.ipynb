{
  "nbformat": 4,
  "nbformat_minor": 0,
  "metadata": {
    "colab": {
      "provenance": [],
      "authorship_tag": "ABX9TyOgzi0XH2Mk8kRTYg6oipBs",
      "include_colab_link": true
    },
    "kernelspec": {
      "name": "python3",
      "display_name": "Python 3"
    },
    "language_info": {
      "name": "python"
    }
  },
  "cells": [
    {
      "cell_type": "markdown",
      "metadata": {
        "id": "view-in-github",
        "colab_type": "text"
      },
      "source": [
        "<a href=\"https://colab.research.google.com/github/Sudipta62/NER-Training-with-custom-Data/blob/main/NER_Sudipta_Successful_v1.ipynb\" target=\"_parent\"><img src=\"https://colab.research.google.com/assets/colab-badge.svg\" alt=\"Open In Colab\"/></a>"
      ]
    },
    {
      "cell_type": "code",
      "source": [
        "!python -m spacy download en_core_web_lg\n"
      ],
      "metadata": {
        "id": "LBj6VARWe3ve",
        "colab": {
          "base_uri": "https://localhost:8080/"
        },
        "outputId": "e6c86f4c-4f1e-4e29-cbe7-7e6d436ada3c"
      },
      "execution_count": 9,
      "outputs": [
        {
          "output_type": "stream",
          "name": "stdout",
          "text": [
            "2024-01-28 17:27:47.204962: E external/local_xla/xla/stream_executor/cuda/cuda_dnn.cc:9261] Unable to register cuDNN factory: Attempting to register factory for plugin cuDNN when one has already been registered\n",
            "2024-01-28 17:27:47.205029: E external/local_xla/xla/stream_executor/cuda/cuda_fft.cc:607] Unable to register cuFFT factory: Attempting to register factory for plugin cuFFT when one has already been registered\n",
            "2024-01-28 17:27:47.206392: E external/local_xla/xla/stream_executor/cuda/cuda_blas.cc:1515] Unable to register cuBLAS factory: Attempting to register factory for plugin cuBLAS when one has already been registered\n",
            "2024-01-28 17:27:48.477460: W tensorflow/compiler/tf2tensorrt/utils/py_utils.cc:38] TF-TRT Warning: Could not find TensorRT\n",
            "Collecting en-core-web-lg==3.6.0\n",
            "  Downloading https://github.com/explosion/spacy-models/releases/download/en_core_web_lg-3.6.0/en_core_web_lg-3.6.0-py3-none-any.whl (587.7 MB)\n",
            "\u001b[2K     \u001b[90m━━━━━━━━━━━━━━━━━━━━━━━━━━━━━━━━━━━━━━━━\u001b[0m \u001b[32m587.7/587.7 MB\u001b[0m \u001b[31m2.7 MB/s\u001b[0m eta \u001b[36m0:00:00\u001b[0m\n",
            "\u001b[?25hRequirement already satisfied: spacy<3.7.0,>=3.6.0 in /usr/local/lib/python3.10/dist-packages (from en-core-web-lg==3.6.0) (3.6.1)\n",
            "Requirement already satisfied: spacy-legacy<3.1.0,>=3.0.11 in /usr/local/lib/python3.10/dist-packages (from spacy<3.7.0,>=3.6.0->en-core-web-lg==3.6.0) (3.0.12)\n",
            "Requirement already satisfied: spacy-loggers<2.0.0,>=1.0.0 in /usr/local/lib/python3.10/dist-packages (from spacy<3.7.0,>=3.6.0->en-core-web-lg==3.6.0) (1.0.5)\n",
            "Requirement already satisfied: murmurhash<1.1.0,>=0.28.0 in /usr/local/lib/python3.10/dist-packages (from spacy<3.7.0,>=3.6.0->en-core-web-lg==3.6.0) (1.0.10)\n",
            "Requirement already satisfied: cymem<2.1.0,>=2.0.2 in /usr/local/lib/python3.10/dist-packages (from spacy<3.7.0,>=3.6.0->en-core-web-lg==3.6.0) (2.0.8)\n",
            "Requirement already satisfied: preshed<3.1.0,>=3.0.2 in /usr/local/lib/python3.10/dist-packages (from spacy<3.7.0,>=3.6.0->en-core-web-lg==3.6.0) (3.0.9)\n",
            "Requirement already satisfied: thinc<8.2.0,>=8.1.8 in /usr/local/lib/python3.10/dist-packages (from spacy<3.7.0,>=3.6.0->en-core-web-lg==3.6.0) (8.1.12)\n",
            "Requirement already satisfied: wasabi<1.2.0,>=0.9.1 in /usr/local/lib/python3.10/dist-packages (from spacy<3.7.0,>=3.6.0->en-core-web-lg==3.6.0) (1.1.2)\n",
            "Requirement already satisfied: srsly<3.0.0,>=2.4.3 in /usr/local/lib/python3.10/dist-packages (from spacy<3.7.0,>=3.6.0->en-core-web-lg==3.6.0) (2.4.8)\n",
            "Requirement already satisfied: catalogue<2.1.0,>=2.0.6 in /usr/local/lib/python3.10/dist-packages (from spacy<3.7.0,>=3.6.0->en-core-web-lg==3.6.0) (2.0.10)\n",
            "Requirement already satisfied: typer<0.10.0,>=0.3.0 in /usr/local/lib/python3.10/dist-packages (from spacy<3.7.0,>=3.6.0->en-core-web-lg==3.6.0) (0.9.0)\n",
            "Requirement already satisfied: pathy>=0.10.0 in /usr/local/lib/python3.10/dist-packages (from spacy<3.7.0,>=3.6.0->en-core-web-lg==3.6.0) (0.11.0)\n",
            "Requirement already satisfied: smart-open<7.0.0,>=5.2.1 in /usr/local/lib/python3.10/dist-packages (from spacy<3.7.0,>=3.6.0->en-core-web-lg==3.6.0) (6.4.0)\n",
            "Requirement already satisfied: tqdm<5.0.0,>=4.38.0 in /usr/local/lib/python3.10/dist-packages (from spacy<3.7.0,>=3.6.0->en-core-web-lg==3.6.0) (4.66.1)\n",
            "Requirement already satisfied: numpy>=1.15.0 in /usr/local/lib/python3.10/dist-packages (from spacy<3.7.0,>=3.6.0->en-core-web-lg==3.6.0) (1.23.5)\n",
            "Requirement already satisfied: requests<3.0.0,>=2.13.0 in /usr/local/lib/python3.10/dist-packages (from spacy<3.7.0,>=3.6.0->en-core-web-lg==3.6.0) (2.31.0)\n",
            "Requirement already satisfied: pydantic!=1.8,!=1.8.1,<3.0.0,>=1.7.4 in /usr/local/lib/python3.10/dist-packages (from spacy<3.7.0,>=3.6.0->en-core-web-lg==3.6.0) (1.10.14)\n",
            "Requirement already satisfied: jinja2 in /usr/local/lib/python3.10/dist-packages (from spacy<3.7.0,>=3.6.0->en-core-web-lg==3.6.0) (3.1.3)\n",
            "Requirement already satisfied: setuptools in /usr/local/lib/python3.10/dist-packages (from spacy<3.7.0,>=3.6.0->en-core-web-lg==3.6.0) (67.7.2)\n",
            "Requirement already satisfied: packaging>=20.0 in /usr/local/lib/python3.10/dist-packages (from spacy<3.7.0,>=3.6.0->en-core-web-lg==3.6.0) (23.2)\n",
            "Requirement already satisfied: langcodes<4.0.0,>=3.2.0 in /usr/local/lib/python3.10/dist-packages (from spacy<3.7.0,>=3.6.0->en-core-web-lg==3.6.0) (3.3.0)\n",
            "Requirement already satisfied: pathlib-abc==0.1.1 in /usr/local/lib/python3.10/dist-packages (from pathy>=0.10.0->spacy<3.7.0,>=3.6.0->en-core-web-lg==3.6.0) (0.1.1)\n",
            "Requirement already satisfied: typing-extensions>=4.2.0 in /usr/local/lib/python3.10/dist-packages (from pydantic!=1.8,!=1.8.1,<3.0.0,>=1.7.4->spacy<3.7.0,>=3.6.0->en-core-web-lg==3.6.0) (4.5.0)\n",
            "Requirement already satisfied: charset-normalizer<4,>=2 in /usr/local/lib/python3.10/dist-packages (from requests<3.0.0,>=2.13.0->spacy<3.7.0,>=3.6.0->en-core-web-lg==3.6.0) (3.3.2)\n",
            "Requirement already satisfied: idna<4,>=2.5 in /usr/local/lib/python3.10/dist-packages (from requests<3.0.0,>=2.13.0->spacy<3.7.0,>=3.6.0->en-core-web-lg==3.6.0) (3.6)\n",
            "Requirement already satisfied: urllib3<3,>=1.21.1 in /usr/local/lib/python3.10/dist-packages (from requests<3.0.0,>=2.13.0->spacy<3.7.0,>=3.6.0->en-core-web-lg==3.6.0) (2.0.7)\n",
            "Requirement already satisfied: certifi>=2017.4.17 in /usr/local/lib/python3.10/dist-packages (from requests<3.0.0,>=2.13.0->spacy<3.7.0,>=3.6.0->en-core-web-lg==3.6.0) (2023.11.17)\n",
            "Requirement already satisfied: blis<0.8.0,>=0.7.8 in /usr/local/lib/python3.10/dist-packages (from thinc<8.2.0,>=8.1.8->spacy<3.7.0,>=3.6.0->en-core-web-lg==3.6.0) (0.7.11)\n",
            "Requirement already satisfied: confection<1.0.0,>=0.0.1 in /usr/local/lib/python3.10/dist-packages (from thinc<8.2.0,>=8.1.8->spacy<3.7.0,>=3.6.0->en-core-web-lg==3.6.0) (0.1.4)\n",
            "Requirement already satisfied: click<9.0.0,>=7.1.1 in /usr/local/lib/python3.10/dist-packages (from typer<0.10.0,>=0.3.0->spacy<3.7.0,>=3.6.0->en-core-web-lg==3.6.0) (8.1.7)\n",
            "Requirement already satisfied: MarkupSafe>=2.0 in /usr/local/lib/python3.10/dist-packages (from jinja2->spacy<3.7.0,>=3.6.0->en-core-web-lg==3.6.0) (2.1.4)\n",
            "\u001b[38;5;2m✔ Download and installation successful\u001b[0m\n",
            "You can now load the package via spacy.load('en_core_web_lg')\n"
          ]
        }
      ]
    },
    {
      "cell_type": "code",
      "source": [
        "import spacy\n",
        "from spacy import displacy\n"
      ],
      "metadata": {
        "id": "AyuufkZIgmcq"
      },
      "execution_count": 4,
      "outputs": []
    },
    {
      "cell_type": "code",
      "execution_count": 11,
      "metadata": {
        "id": "LJP_WnxdXlzw"
      },
      "outputs": [],
      "source": [
        "import spacy\n",
        "from spacy.tokens import DocBin\n",
        "\n",
        "nlp = spacy.load(\"en_core_web_lg\")\n",
        "training_data = [\n",
        "\n",
        "              {\n",
        "  \"classes\": [\"NAME\", \"EMAIL ADDRESS\"],\n",
        "  \"annotations\": [\n",
        "    [\"Daniel White's email is daniel.w@example.com.\\r\", {\"entities\": [[0, 12, \"NAME\"], [24, 44, \"EMAIL ADDRESS\"]]}],\n",
        "    [\"Contact Lisa Brown at lisa.b@example.org.\\r\", {\"entities\": [[0, 12, \"NAME\"], [22, 40, \"EMAIL ADDRESS\"]]}],\n",
        "    [\"Email matthew.m@example.net for Matthew Miller.\\r\", {\"entities\": [[6, 27, \"EMAIL ADDRESS\"], [32, 46, \"NAME\"]]}],\n",
        "    [\"Hannah Davis has an email hannah.d@example.com.\\r\", {\"entities\": [[0, 12, \"NAME\"], [26, 46, \"EMAIL ADDRESS\"]]}],\n",
        "    [\"Mark Taylor can be reached at mark.t@email.net.\\r\", {\"entities\": [[0, 11, \"NAME\"], [30, 46, \"EMAIL ADDRESS\"]]}],\n",
        "    [\"Contact Olivia Smith at olivia.s@example.org.\\r\", {\"entities\": [[8, 20, \"NAME\"], [24, 44, \"EMAIL ADDRESS\"]]}],\n",
        "    [\"Andrew Harris's email is andrew.h@example.net.\\r\", {\"entities\": [[0, 13, \"NAME\"], [25, 45, \"EMAIL ADDRESS\"]]}],\n",
        "    [\"Reach out to Natalie White at natalie.w@email.com.\\r\", {\"entities\": [[13, 26, \"NAME\"], [30, 49, \"EMAIL ADDRESS\"]]}],\n",
        "    [\"Email george.g@example.org for George Green.\", {\"entities\": [[6, 26, \"EMAIL ADDRESS\"], [31, 43, \"NAME\"]]}],\n",
        "    [\"Email samantha.w@example.org for Samantha Wilson.\", {\"entities\": [[6, 25, \"EMAILADDRESS\"], [30, 46, \"NAME\"]]}],\n",
        "    [\"Contact jordan.s@example.com for Jordan Smith.\", {\"entities\": [[8, 26, \"NAME\"], [31, 46, \"EMAILADDRESS\"]]}],\n",
        "    [\"Email katherine.d@example.net for Katherine Davis.\", {\"entities\": [[6, 26, \"EMAILADDRESS\"], [31, 48, \"NAME\"]]}],\n",
        "    [\"Reach out to timothy.r@example.org for Timothy Robinson.\", {\"entities\": [[12, 31, \"NAME\"], [36, 51, \"EMAILADDRESS\"]]}],\n",
        "    [\"Contact danielle.w@example.com for Danielle White.\", {\"entities\": [[8, 26, \"NAME\"], [31, 46, \"EMAILADDRESS\"]]}],\n",
        "    [\"Email steven.m@example.net for Steven Mitchell.\", {\"entities\": [[6, 24, \"EMAILADDRESS\"], [29, 47, \"NAME\"]]}],\n",
        "    [\"Hannah Martinez's email is hannah.m@example.org.\", {\"entities\": [[0, 14, \"NAME\"], [26, 46, \"EMAILADDRESS\"]]}],\n",
        "    [\"Reach out to amber.j@example.com for Amber Johnson.\", {\"entities\": [[12, 28, \"NAME\"], [33, 48, \"EMAILADDRESS\"]]}],\n",
        "    [\"Email oliver.r@example.net for Oliver Richardson.\", {\"entities\": [[6, 24, \"EMAILADDRESS\"], [29, 48, \"NAME\"]]}],\n",
        "    [\"Contact samuel.m@example.org for Samuel Miller.\", {\"entities\": [[8, 24, \"NAME\"], [29, 45, \"EMAILADDRESS\"]]}],\n",
        "    [\"Email laura.h@example.net for Laura Henderson.\", {\"entities\": [[6, 23, \"EMAILADDRESS\"], [28, 45, \"NAME\"]]}],\n",
        "    [\"Reach out to patrick.g@example.com for Patrick Green.\", {\"entities\": [[12, 28, \"NAME\"], [33, 48, \"EMAILADDRESS\"]]}],\n",
        "    [\"Contact abigail.w@example.org for Abigail White.\", {\"entities\": [[8, 26, \"NAME\"], [31, 46, \"EMAILADDRESS\"]]}],\n",
        "    [\"Email daniel.k@example.net for Daniel King.\", {\"entities\": [[6, 23, \"EMAILADDRESS\"], [28, 42, \"NAME\"]]}],\n",
        "    [\"Reach out to sophia.m@example.com for Sophia Martinez.\", {\"entities\": [[12, 27, \"NAME\"], [32, 48, \"EMAILADDRESS\"]]}],\n",
        "    [\"Contact justin.w@example.org for Justin Wilson.\", {\"entities\": [[8, 24, \"NAME\"], [29, 46, \"EMAILADDRESS\"]]}],\n",
        "    [\"Email lily.j@example.net for Lily Johnson.\", {\"entities\": [[6, 20, \"EMAILADDRESS\"], [25, 40, \"NAME\"]]}],\n",
        "    [\"Hudson Davis's email is hudson.d@example.com.\", {\"entities\": [[0, 12, \"NAME\"], [24, 44, \"EMAILADDRESS\"]]}],\n",
        "    [\"Contact ava.r@example.org for Ava Robinson.\", {\"entities\": [[8, 18, \"NAME\"], [23, 38, \"EMAILADDRESS\"]]}],\n",
        "    [\"Email william.c@example.net for William Clark.\", {\"entities\": [[6, 23, \"EMAILADDRESS\"], [28, 42, \"NAME\"]]}],\n",
        "    [\"Email sophie.g@example.net for Sophie Green.\", {\"entities\": [[6, 19, \"EMAILADDRESS\"], [24, 39, \"NAME\"]]}],\n",
        "    [\"Reach out to benjamin.p@example.org for Benjamin Parker.\", {\"entities\": [[12, 27, \"NAME\"], [32, 48, \"EMAILADDRESS\"]]}],\n",
        "    [\"Contact audrey.w@example.com for Audrey White.\", {\"entities\": [[8, 21, \"NAME\"], [26, 41, \"EMAILADDRESS\"]]}],\n",
        "    [\"Email ethan.m@example.net for Ethan Mitchell.\", {\"entities\": [[6, 18, \"EMAILADDRESS\"], [23, 39, \"NAME\"]]}],\n",
        "    [\"Maria Henderson's email is maria.h@example.org.\", {\"entities\": [[0, 13, \"NAME\"], [25, 45, \"EMAILADDRESS\"]]}],\n",
        "    [\"Reach out to lucas.j@example.com for Lucas Johnson.\", {\"entities\": [[12, 27, \"NAME\"], [32, 48, \"EMAILADDRESS\"]]}],\n",
        "    [\"Email abigail.m@example.net for Abigail Miller.\", {\"entities\": [[6, 19, \"EMAILADDRESS\"], [24, 42, \"NAME\"]]}],\n",
        "    [\"Contact jacob.r@example.org for Jacob Robinson.\", {\"entities\": [[8, 23, \"NAME\"], [28, 43, \"EMAILADDRESS\"]]}],\n",
        "    [\"Email emily.h@example.net for Emily Henderson.\", {\"entities\": [[6, 19, \"EMAILADDRESS\"], [24, 42, \"NAME\"]]}],\n",
        "    [\"Reach out to daniel.g@example.com for Daniel Green.\", {\"entities\": [[12, 27, \"NAME\"], [32, 47, \"EMAILADDRESS\"]]}],\n",
        "    [\"Contact sophia.w@example.org for Sophia White.\", {\"entities\": [[8, 20, \"NAME\"], [25, 41, \"EMAILADDRESS\"]]}],\n",
        "    [\"Email jack.k@example.net for Jack King.\", {\"entities\": [[6, 15, \"EMAILADDRESS\"], [20, 32, \"NAME\"]]}],\n",
        "    [\"Reach out to mia.m@example.com for Mia Martinez.\", {\"entities\": [[12, 21, \"NAME\"], [26, 41, \"EMAILADDRESS\"]]}],\n",
        "    [\"Contact oliver.w@example.org for Oliver Wilson.\", {\"entities\": [[8, 23, \"NAME\"], [28, 44, \"EMAILADDRESS\"]]}],\n",
        "    [\"Email lily.j@example.net for Lily Johnson.\", {\"entities\": [[6, 17, \"EMAILADDRESS\"], [22, 37, \"NAME\"]]}],\n",
        "    [\"James Davis's email is james.d@example.com.\", {\"entities\": [[0, 11, \"NAME\"], [23, 42, \"EMAILADDRESS\"]]}],\n",
        "    [\"Contact amelia.r@example.org for Amelia Robinson.\", {\"entities\": [[8, 21, \"NAME\"], [26, 42, \"EMAILADDRESS\"]]}],\n",
        "    [\"Email noah.c@example.net for Noah Clark.\", {\"entities\": [[6, 15, \"EMAILADDRESS\"], [20, 32, \"NAME\"]]}],\n",
        "    [\"Contact ava.m@example.com for Ava Miller.\", {\"entities\": [[8, 16, \"NAME\"], [21, 36, \"EMAILADDRESS\"]]}],\n",
        "    [\"Email logan.p@example.org for Logan Parker.\", {\"entities\": [[6, 17, \"EMAILADDRESS\"], [22, 36, \"NAME\"]]}],\n",
        "    [\"Reach out to mia.r@example.com for Mia Robinson.\", {\"entities\": [[12, 21, \"NAME\"], [26, 41, \"EMAILADDRESS\"]]}],\n",
        "    [\"Contact ethan.h@example.net for Ethan Henderson.\", {\"entities\": [[8, 19, \"NAME\"], [24, 42, \"EMAILADDRESS\"]]}],\n",
        "    [\"Email abigail.g@example.org for Abigail Green.\", {\"entities\": [[6, 19, \"EMAILADDRESS\"], [24, 40, \"NAME\"]]}],\n",
        "    [\"William Mitchell's email is william.m@example.com.\", {\"entities\": [[0, 16, \"NAME\"], [28, 43, \"EMAILADDRESS\"]]}],\n",
        "    [\"Reach out to olivia.j@example.com for Olivia Johnson.\", {\"entities\": [[12, 27, \"NAME\"], [32, 48, \"EMAILADDRESS\"]]}],\n",
        "    [\"Email noah.d@example.net for Noah Davis.\", {\"entities\": [[6, 15, \"EMAILADDRESS\"], [20, 29, \"NAME\"]]}],\n",
        "    [\"Contact mia.h@example.org for Mia Henderson.\", {\"entities\": [[8, 16, \"NAME\"], [21, 36, \"EMAILADDRESS\"]]}],\n",
        "    [\"Email emma.g@example.com for Emma Green.\", {\"entities\": [[6, 15, \"EMAILADDRESS\"], [20, 33, \"NAME\"]]}],\n",
        "    [\"Reach out to oliver.r@example.net for Oliver Robinson.\", {\"entities\": [[12, 27, \"NAME\"], [32, 48, \"EMAILADDRESS\"]]}],\n",
        "    [\"Contact ava.c@example.org for Ava Clark.\", {\"entities\": [[8, 16, \"NAME\"], [21, 34, \"EMAILADDRESS\"]]}],\n",
        "    [\"Email noah.w@example.com for Noah Wilson.\", {\"entities\": [[6, 15, \"EMAILADDRESS\"], [20, 35, \"NAME\"]]}],\n",
        "    [\"Contact mia.g@example.net for Mia Green.\", {\"entities\": [[8, 15, \"NAME\"], [20, 34, \"EMAILADDRESS\"]]}],\n",
        "    [\"Email ethan.r@example.org for Ethan Robinson.\", {\"entities\": [[6, 19, \"EMAILADDRESS\"], [24, 42, \"NAME\"]]}],\n",
        "    [\"Sophie White's email is sophie.w@example.com.\", {\"entities\": [[0, 12, \"NAME\"], [24, 39, \"EMAILADDRESS\"]]}],\n",
        "    [\"Reach out to lucas.m@example.net for Lucas Mitchell.\", {\"entities\": [[12, 27, \"NAME\"], [32, 48, \"EMAILADDRESS\"]]}],\n",
        "    [\"Contact ava.j@example.com for Ava Johnson.\", {\"entities\": [[8, 16, \"NAME\"], [21, 36, \"EMAILADDRESS\"]]}],\n",
        "    [\"Email william.d@example.org for William Davis.\", {\"entities\": [[6, 23, \"EMAILADDRESS\"], [28, 42, \"NAME\"]]}],\n",
        "    [\"Olivia Henderson's email is olivia.h@example.net.\", {\"entities\": [[0, 14, \"NAME\"], [26, 44, \"EMAILADDRESS\"]]}],\n",
        "    [\"Reach out to jack.r@example.com for Jack Robinson.\", {\"entities\": [[12, 23, \"NAME\"], [28, 43, \"EMAILADDRESS\"]]}],\n",
        "    [\"Contact mia.w@example.org for Mia Wilson.\", {\"entities\": [[8, 15, \"NAME\"], [20, 35, \"EMAILADDRESS\"]]}],\n",
        "    [\"Email ethan.g@example.com for Ethan Green.\", {\"entities\": [[6, 18, \"EMAILADDRESS\"], [23, 39, \"NAME\"]]}],\n",
        "    [\"Sophia Henderson's email is sophia.h@example.net.\", {\"entities\": [[0, 14, \"NAME\"], [26, 44, \"EMAILADDRESS\"]]}],\n",
        "    [\"Reach out to oliver.j@example.org for Oliver Johnson.\", {\"entities\": [[12, 27, \"NAME\"], [32, 48, \"EMAILADDRESS\"]]}],\n",
        "    [\"Contact ava.m@example.com for Ava Miller.\", {\"entities\": [[8, 16, \"NAME\"], [21, 36, \"EMAILADDRESS\"]]}],\n",
        "    [\"Email noah.p@example.net for Noah Parker.\", {\"entities\": [[6, 15, \"EMAILADDRESS\"], [20, 29, \"NAME\"]]}],\n",
        "    [\"Emma Davis's email is emma.d@example.com.\", {\"entities\": [[0, 11, \"NAME\"], [23, 40, \"EMAILADDRESS\"]]}],\n",
        "    [\"Reach out to daniel.w@example.org for Daniel Wilson.\", {\"entities\": [[12, 26, \"NAME\"], [31, 46, \"EMAILADDRESS\"]]}],\n",
        "    [\"Contact mia.k@example.com for Mia King.\", {\"entities\": [[8, 15, \"NAME\"], [20, 33, \"EMAILADDRESS\"]]}],\n",
        "    [\"Contact david.m@example.com for David Martinez from Spain.\", {\"entities\": [[8, 22, \"NAME\"], [27, 43, \"EMAILADDRESS\"]]}],\n",
        "    [\"Email sophie.k@example.net for Sophie King from Australia.\", {\"entities\": [[6, 19, \"EMAILADDRESS\"], [24, 39, \"NAME\"]]}],\n",
        "    [\"Reach out to benjamin.p@example.org for Benjamin Parker from Canada.\", {\"entities\": [[12, 27, \"NAME\"], [32, 48, \"EMAILADDRESS\"]]}],\n",
        "    [\"Contact audrey.w@example.com for Audrey White from France.\", {\"entities\": [[8, 21, \"NAME\"], [26, 41, \"EMAILADDRESS\"]]}],\n",
        "    [\"Email ethan.m@example.net for Ethan Mitchell from Germany.\", {\"entities\": [[6, 18, \"EMAILADDRESS\"], [23, 39, \"NAME\"]]}],\n",
        "    [\"Maria Henderson's email is maria.h@example.org from Italy.\", {\"entities\": [[0, 13, \"NAME\"], [25, 45, \"EMAILADDRESS\"]]}],\n",
        "    [\"Reach out to lucas.j@example.com for Lucas Johnson from Japan.\", {\"entities\": [[12, 27, \"NAME\"], [32, 48, \"EMAILADDRESS\"]]}],\n",
        "    [\"Email abigail.m@example.net for Abigail Miller from Brazil.\", {\"entities\": [[6, 19, \"EMAILADDRESS\"], [24, 42, \"NAME\"]]}],\n",
        "    [\"Contact jacob.r@example.org for Jacob Robinson from South Africa.\", {\"entities\": [[8, 23, \"NAME\"], [28, 43, \"EMAILADDRESS\"]]}],\n",
        "    [\"Email emily.h@example.net for Emily Henderson from India.\", {\"entities\": [[6, 19, \"EMAILADDRESS\"], [24, 42, \"NAME\"]]}],\n",
        "    [\"Email emily.h@example.net for Emily Henderson from India.\", {\"entities\": [[6, 19, \"EMAILADDRESS\"], [24, 42, \"NAME\"]]}],\n",
        "    [\"Email sarah.j@example.net for Sarah Jane Smith.\", {\"entities\": [[6, 19, \"EMAILADDRESS\"], [24, 39, \"NAME\"]]}],\n",
        "    [\"Contact alex.m@example.com for Alex Michael Johnson.\", {\"entities\": [[8, 22, \"NAME\"], [27, 42, \"EMAILADDRESS\"]]}],\n",
        "    [\"Reach out to olivia.r@example.org for Olivia Rose Miller.\", {\"entities\": [[12, 26, \"NAME\"], [31, 48, \"EMAILADDRESS\"]]}],\n",
        "    [\"Email matthew.k@example.net for Matthew Kevin Brown.\", {\"entities\": [[6, 22, \"EMAILADDRESS\"], [27, 43, \"NAME\"]]}],\n",
        "    [\"Contact sophie.w@example.com for Sophie Williams Jr.\", {\"entities\": [[8, 21, \"NAME\"], [26, 41, \"EMAILADDRESS\"]]}],\n",
        "    [\"Email emily.h@example.net for Emily Henderson from India.\", {\"entities\": [[6, 19, \"EMAILADDRESS\"], [24, 42, \"NAME\"]]}],\n",
        "    [\"Contact oliver.w@example.org for Oliver Wilson Jr. from Australia.\", {\"entities\": [[8, 24, \"NAME\"], [29, 45, \"EMAILADDRESS\"]]}],\n",
        "    [\"Reach out to sophia.m@example.com for Sophia Marie Johnson from Canada.\", {\"entities\": [[12, 29, \"NAME\"], [34, 50, \"EMAILADDRESS\"]]}],\n",
        "    [\"Email william.d@example.net for William David Robinson from Germany.\", {\"entities\": [[6, 23, \"EMAILADDRESS\"], [28, 48, \"NAME\"]]}],\n",
        "    [\"Contact abigail.k@example.org for Abigail Katherine Brown from Spain.\", {\"entities\": [[8, 25, \"NAME\"], [30, 48, \"EMAILADDRESS\"]]}],\n",
        "    [\"Email johnathan.s@example.net for Johnathan Samuel Smith Jr. from France.\", {\"entities\": [[6, 28, \"EMAILADDRESS\"], [33, 56, \"NAME\"]]}],\n",
        "    [\"Contact isabella.m@example.org for Isabella Marie Thompson Smith from Japan.\", {\"entities\": [[8, 33, \"NAME\"], [38, 56, \"EMAILADDRESS\"]]}],\n",
        "    [\"Reach out to benjamin.p@example.com for Benjamin Peter Davis Jr. from South Africa.\", {\"entities\": [[12, 38, \"NAME\"], [43, 65, \"EMAILADDRESS\"]]}],\n",
        "    [\"Email elizabeth.t@example.net for Elizabeth Taylor Robinson Jr. from Brazil.\", {\"entities\": [[6, 31, \"EMAILADDRESS\"], [36, 58, \"NAME\"]]}],\n",
        "    [\"Contact christopher.m@example.org for Christopher Michael Wilson Smith from India.\", {\"entities\": [[8, 36, \"NAME\"], [41, 63, \"EMAILADDRESS\"]]}],\n",
        "    [\"Email emily.h@example.net for Emily Henderson from India.\", {\"entities\": [[6, 19, \"EMAILADDRESS\"], [24, 42, \"NAME\"]]}],\n",
        "    [\"Contact oliver_wilson@example.org for Oliver Wilson Jr. from Australia.\", {\"entities\": [[8, 26, \"NAME\"], [31, 50, \"EMAILADDRESS\"]]}],\n",
        "    [\"Reach out to sophia.m@example.co.uk for Sophia Marie Johnson from Canada.\", {\"entities\": [[12, 29, \"NAME\"], [34, 52, \"EMAILADDRESS\"]]}],\n",
        "    [\"Email william.d@example.com for William David Robinson from Germany.\", {\"entities\": [[6, 23, \"EMAILADDRESS\"], [28, 48, \"NAME\"]]}],\n",
        "    [\"Contact abigail_k@example.net for Abigail Katherine Brown from Spain.\", {\"entities\": [[8, 25, \"NAME\"], [30, 49, \"EMAILADDRESS\"]]}],\n",
        "    [\"Email johnathan_s@example.net for Johnathan Samuel Smith Jr. from France.\", {\"entities\": [[6, 29, \"EMAILADDRESS\"], [34, 57, \"NAME\"]]}],\n",
        "    [\"Contact isabella_m@example.co.uk for Isabella Marie Thompson Smith from Japan.\", {\"entities\": [[8, 33, \"NAME\"], [38, 58, \"EMAILADDRESS\"]]}],\n",
        "    [\"Reach out to benjamin.peter@example.com for Benjamin Peter Davis Jr. from South Africa.\", {\"entities\": [[12, 41, \"NAME\"], [46, 67, \"EMAILADDRESS\"]]}],\n",
        "    [\"Email elizabeth_t@example.net for Elizabeth Taylor-Robinson Jr. from Brazil.\", {\"entities\": [[6, 31, \"EMAILADDRESS\"], [36, 61, \"NAME\"]]}],\n",
        "    [\"Contact christopher_m@example.org for Christopher Michael Wilson-Smith from India.\", {\"entities\": [[8, 36, \"NAME\"], [41, 65, \"EMAILADDRESS\"]]}],\n",
        "    [\"Contact christopher m@example.org for Christopher Michael Wilson-Smith from India.\", {\"entities\": [[8, 43, \"NAME\"], [48, 72, \"EMAILADDRESS\"]]}],\n",
        "    [\"Email jennifer.m@example.com for Jennifer Marie Smith from USA.\", {\"entities\": [[6, 26, \"EMAILADDRESS\"], [31, 53, \"NAME\"]]}],\n",
        "    [\"Message robert_w@example.net for Robert William Jones from Canada.\", {\"entities\": [[8, 32, \"EMAILADDRESS\"], [37, 57, \"NAME\"]]}],\n",
        "    [\"Contact elizabeth.g@example.org for Elizabeth Grace Thompson from UK.\", {\"entities\": [[8, 34, \"EMAILADDRESS\"], [39, 58, \"NAME\"]]}],\n",
        "    [\"Send inquiry to matthew_j@example.com for Matthew Jameson Lee from Australia.\", {\"entities\": [[14, 35, \"EMAILADDRESS\"], [40, 60, \"NAME\"]]}],\n",
        "    [\"Reach out to victoria_a@example.net for Victoria Anne Parker from New Zealand.\", {\"entities\": [[12, 34, \"EMAILADDRESS\"], [39, 61, \"NAME\"]]}]\n",
        "\n",
        "\n",
        "\n",
        "  ]\n",
        "}\n",
        "]\n",
        "\n",
        "# Create a DocBin to collect Doc objects\n",
        "doc_bin = DocBin()\n",
        "\n",
        "for example in training_data:\n",
        "    text = example[\"annotations\"][0][0]  # Extracting text from the first annotation\n",
        "    entities = example[\"annotations\"][0][1][\"entities\"]  # Extracting entities from the first annotation\n",
        "\n",
        "    doc = nlp.make_doc(text)  # Creating a Spacy Doc from the text\n",
        "\n",
        "    ents = []\n",
        "    for start, end, label in entities:\n",
        "        span = doc.char_span(start, end, label=label)\n",
        "        ents.append(span)\n",
        "\n",
        "    doc.ents = ents\n",
        "    doc_bin.add(doc)\n",
        "\n",
        "doc_bin.to_disk(\"./train.spacy\")"
      ]
    },
    {
      "cell_type": "code",
      "source": [
        "import spacy\n",
        "from spacy.tokens import DocBin\n",
        "\n",
        "nlp = spacy.load(\"en_core_web_lg\")\n",
        "training_data = [\n",
        "\n",
        "              {\n",
        "  \"classes\": [\"NAME\", \"EMAIL ADDRESS\"],\n",
        "  \"annotations\": [\n",
        "    [\"Daniel White's email is daniel.w@example.com.\\r\", {\"entities\": [[0, 12, \"NAME\"], [24, 44, \"EMAILADDRESS\"]]}],\n",
        "    [\"Contact Lisa Brown at lisa.b@example.org.\\r\", {\"entities\": [[0, 12, \"NAME\"], [22, 40, \"EMAILADDRESS\"]]}],\n",
        "    [\"Email matthew.m@example.net for Matthew Miller.\\r\", {\"entities\": [[6, 27, \"EMAILADDRESS\"], [32, 46, \"NAME\"]]}],\n",
        "    [\"Hannah Davis has an email hannah.d@example.com.\\r\", {\"entities\": [[0, 12, \"NAME\"], [26, 46, \"EMAILADDRESS\"]]}],\n",
        "    [\"Mark Taylor can be reached at mark.t@email.net.\\r\", {\"entities\": [[0, 11, \"NAME\"], [30, 46, \"EMAILADDRESS\"]]}],\n",
        "    [\"Contact Olivia Smith at olivia.s@example.org.\\r\", {\"entities\": [[8, 20, \"NAME\"], [24, 44, \"EMAILADDRESS\"]]}],\n",
        "    [\"Andrew Harris's email is andrew.h@example.net.\\r\", {\"entities\": [[0, 13, \"NAME\"], [25, 45, \"EMAILADDRESS\"]]}],\n",
        "    [\"Reach out to Natalie White at natalie.w@email.com.\\r\", {\"entities\": [[13, 26, \"NAME\"], [30, 49, \"EMAILADDRESS\"]]}],\n",
        "    [\"Email george.g@example.org for George Green.\", {\"entities\": [[6, 26, \"EMAILADDRESS\"], [31, 43, \"NAME\"]]}],\n",
        "    [\"Contact alicia.w@example.com for Alicia White from New Zealand.\", {\"entities\": [[8, 21, \"NAME\"], [26, 41, \"EMAILADDRESS\"]]}],\n",
        "    [\"Email xavier.p@example.net for Xavier Parker from Iceland.\", {\"entities\": [[6, 20, \"EMAILADDRESS\"], [25, 40, \"NAME\"]]}],\n",
        "    [\"Reach out to isabella.g@example.org for Isabella Green from Singapore.\", {\"entities\": [[12, 27, \"NAME\"], [32, 48, \"EMAILADDRESS\"]]}],\n",
        "    [\"Contact oliver.s@example.com for Oliver Smith from Costa Rica.\", {\"entities\": [[8, 21, \"NAME\"], [26, 41, \"EMAILADDRESS\"]]}],\n",
        "    [\"Email mia.r@example.net for Mia Robinson from Morocco.\", {\"entities\": [[6, 15, \"EMAILADDRESS\"], [20, 35, \"NAME\"]]}],\n",
        "    [\"Sophie Johnson's email is sophie.j@example.com from Switzerland.\", {\"entities\": [[0, 13, \"NAME\"], [25, 42, \"EMAILADDRESS\"]]}],\n",
        "    [\"Reach out to jack.w@example.net for Jack Wilson from Egypt.\", {\"entities\": [[12, 23, \"NAME\"], [28, 43, \"EMAILADDRESS\"]]}],\n",
        "    [\"Email olivia.p@example.com for Olivia Parker from Malaysia.\", {\"entities\": [[8, 20, \"NAME\"], [25, 40, \"EMAILADDRESS\"]]}],\n",
        "    [\"Contact liam.b@example.org for Liam Brown from Argentina.\", {\"entities\": [[8, 21, \"NAME\"], [26, 41, \"EMAILADDRESS\"]]}],\n",
        "    [\"Email emma.c@example.net for Emma Clark from Kenya.\", {\"entities\": [[6, 19, \"EMAILADDRESS\"], [24, 39, \"NAME\"]]}],\n",
        "    [\"Contact daniel.s@example.com for Daniel Smith from Finland.\", {\"entities\": [[8, 22, \"NAME\"], [27, 43, \"EMAILADDRESS\"]]}],\n",
        "    [\"Reach out to sophia.k@example.org for Sophia King from Vietnam.\", {\"entities\": [[12, 27, \"NAME\"], [32, 48, \"EMAILADDRESS\"]]}],\n",
        "    [\"Email matthew.h@example.net for Matthew Henderson from Norway.\", {\"entities\": [[6, 27, \"EMAILADDRESS\"], [32, 46, \"NAME\"]]}],\n",
        "    [\"Contact ava.l@example.com for Ava Lee from United Arab Emirates.\", {\"entities\": [[8, 15, \"NAME\"], [20, 33, \"EMAILADDRESS\"]]}],\n",
        "    [\"Email ethan.m@example.org for Ethan Miller from Turkey.\", {\"entities\": [[6, 18, \"EMAILADDRESS\"], [23, 39, \"NAME\"]]}],\n",
        "    [\"Contact mia.p@example.net for Mia Parker from Chile.\", {\"entities\": [[8, 15, \"NAME\"], [20, 35, \"EMAILADDRESS\"]]}],\n",
        "    [\"Email oliver.t@example.com for Oliver Taylor from Saudi Arabia.\", {\"entities\": [[6, 23, \"EMAILADDRESS\"], [28, 47, \"NAME\"]]}],\n",
        "    [\"Sophie Green's email is sophie.g@example.org from Netherlands.\", {\"entities\": [[0, 13, \"NAME\"], [25, 42, \"EMAILADDRESS\"]]}],\n",
        "    [\"Reach out to jack.k@example.net for Jack King from Nigeria.\", {\"entities\": [[12, 23, \"NAME\"], [28, 43, \"EMAILADDRESS\"]]}],\n",
        "    [\"Email olivia.b@example.com for Olivia Brown from South Korea.\", {\"entities\": [[8, 21, \"NAME\"], [26, 41, \"EMAILADDRESS\"]]}],\n",
        "    [\"Contact John Doe at john.d@example.com.\", {\"entities\": [[8, 17, \"NAME\"], [21, 35, \"EMAILADDRESS\"]]}],\n",
        "    [\"Email Sarah Johnson at sarah.j@example.net.\", {\"entities\": [[6, 17, \"EMAILADDRESS\"], [22, 35, \"NAME\"]]}],\n",
        "    [\"Reach out to Michael Smith at michael.s@example.org.\", {\"entities\": [[12, 25, \"NAME\"], [29, 44, \"EMAILADDRESS\"]]}],\n",
        "    [\"Contact Emily Davis at emily.d@example.com.\", {\"entities\": [[8, 19, \"NAME\"], [23, 37, \"EMAILADDRESS\"]]}],\n",
        "    [\"Email Robert White at robert.w@example.net.\", {\"entities\": [[6, 18, \"EMAILADDRESS\"], [23, 35, \"NAME\"]]}],\n",
        "    [\"Sophia Brown's email is sophia.b@example.org.\", {\"entities\": [[0, 12, \"NAME\"], [24, 41, \"EMAILADDRESS\"]]}],\n",
        "    [\"Reach out to Jack Robinson at jack.r@example.com.\", {\"entities\": [[12, 25, \"NAME\"], [30, 43, \"EMAILADDRESS\"]]}],\n",
        "    [\"Email Olivia Miller at olivia.m@example.net.\", {\"entities\": [[6, 18, \"EMAILADDRESS\"], [23, 36, \"NAME\"]]}],\n",
        "    [\"Contact Ethan Green at ethan.g@example.com.\", {\"entities\": [[8, 18, \"NAME\"], [23, 35, \"EMAILADDRESS\"]]}],\n",
        "    [\"Email Ava Taylor at ava.t@example.org.\", {\"entities\": [[6, 15, \"EMAILADDRESS\"], [20, 29, \"NAME\"]]}]\n",
        "\n",
        "\n",
        "\n",
        "\n",
        "  ]\n",
        "}\n",
        "]\n",
        "\n",
        "doc_bin_dev = DocBin()\n",
        "for example in training_data:\n",
        "    text = example[\"annotations\"][0][0]  # Extracting text from the first annotation\n",
        "    entities = example[\"annotations\"][0][1][\"entities\"]  # Extracting entities from the first annotation\n",
        "\n",
        "    doc = nlp.make_doc(text)  # Creating a Spacy Doc from the text\n",
        "\n",
        "    ents = []\n",
        "    for start, end, label in entities:\n",
        "        span = doc.char_span(start, end, label=label)\n",
        "        ents.append(span)\n",
        "\n",
        "    doc.ents = ents\n",
        "    doc_bin_dev.add(doc)\n",
        "\n",
        "doc_bin_dev.to_disk(\"./dev.spacy\")"
      ],
      "metadata": {
        "id": "NTV-ZqNZccf-"
      },
      "execution_count": 12,
      "outputs": []
    },
    {
      "cell_type": "code",
      "source": [
        "!python -m spacy init fill-config base_config.cfg config.cfg"
      ],
      "metadata": {
        "colab": {
          "base_uri": "https://localhost:8080/"
        },
        "id": "L-RVxgL6dwct",
        "outputId": "2e314b71-5f3c-4756-aee7-49dbc7c86523"
      },
      "execution_count": 18,
      "outputs": [
        {
          "output_type": "stream",
          "name": "stdout",
          "text": [
            "2024-01-28 18:40:58.283118: E external/local_xla/xla/stream_executor/cuda/cuda_dnn.cc:9261] Unable to register cuDNN factory: Attempting to register factory for plugin cuDNN when one has already been registered\n",
            "2024-01-28 18:40:58.283187: E external/local_xla/xla/stream_executor/cuda/cuda_fft.cc:607] Unable to register cuFFT factory: Attempting to register factory for plugin cuFFT when one has already been registered\n",
            "2024-01-28 18:40:58.284623: E external/local_xla/xla/stream_executor/cuda/cuda_blas.cc:1515] Unable to register cuBLAS factory: Attempting to register factory for plugin cuBLAS when one has already been registered\n",
            "2024-01-28 18:40:59.608054: W tensorflow/compiler/tf2tensorrt/utils/py_utils.cc:38] TF-TRT Warning: Could not find TensorRT\n",
            "\u001b[38;5;2m✔ Auto-filled config with all values\u001b[0m\n",
            "\u001b[38;5;2m✔ Saved config\u001b[0m\n",
            "config.cfg\n",
            "You can now add your data and train your pipeline:\n",
            "python -m spacy train config.cfg --paths.train ./train.spacy --paths.dev ./dev.spacy\n"
          ]
        }
      ]
    },
    {
      "cell_type": "code",
      "source": [
        "!python -m spacy train config.cfg --output ./output --paths.train ./train.spacy --paths.dev ./dev.spacy"
      ],
      "metadata": {
        "colab": {
          "base_uri": "https://localhost:8080/"
        },
        "id": "Q0RHaGcZeqOW",
        "outputId": "043fe173-110b-467c-9748-9ee20bf79849"
      },
      "execution_count": 25,
      "outputs": [
        {
          "output_type": "stream",
          "name": "stdout",
          "text": [
            "2024-01-28 19:14:06.282812: E external/local_xla/xla/stream_executor/cuda/cuda_dnn.cc:9261] Unable to register cuDNN factory: Attempting to register factory for plugin cuDNN when one has already been registered\n",
            "2024-01-28 19:14:06.282892: E external/local_xla/xla/stream_executor/cuda/cuda_fft.cc:607] Unable to register cuFFT factory: Attempting to register factory for plugin cuFFT when one has already been registered\n",
            "2024-01-28 19:14:06.284459: E external/local_xla/xla/stream_executor/cuda/cuda_blas.cc:1515] Unable to register cuBLAS factory: Attempting to register factory for plugin cuBLAS when one has already been registered\n",
            "2024-01-28 19:14:07.780345: W tensorflow/compiler/tf2tensorrt/utils/py_utils.cc:38] TF-TRT Warning: Could not find TensorRT\n",
            "\u001b[38;5;4mℹ Saving to output directory: output\u001b[0m\n",
            "\u001b[38;5;4mℹ Using CPU\u001b[0m\n",
            "\u001b[1m\n",
            "=========================== Initializing pipeline ===========================\u001b[0m\n",
            "\u001b[38;5;2m✔ Initialized pipeline\u001b[0m\n",
            "\u001b[1m\n",
            "============================= Training pipeline =============================\u001b[0m\n",
            "\u001b[38;5;4mℹ Pipeline: ['tok2vec', 'ner']\u001b[0m\n",
            "\u001b[38;5;4mℹ Initial learn rate: 0.001\u001b[0m\n",
            "E    #       LOSS TOK2VEC  LOSS NER  ENTS_F  ENTS_P  ENTS_R  SCORE \n",
            "---  ------  ------------  --------  ------  ------  ------  ------\n",
            "  0       0          0.00      5.20   33.33   25.00   50.00    0.33\n",
            " 50      50          0.14    335.95    0.00    0.00    0.00    0.00\n",
            "100     100          0.80    262.94    0.00    0.00    0.00    0.00\n",
            "150     150          1.15    175.49    0.00    0.00    0.00    0.00\n",
            "200     200          0.88    117.17    0.00    0.00    0.00    0.00\n",
            "250     250          1.44    108.56   50.00   50.00   50.00    0.50\n",
            "300     300          2.34    125.86   50.00   50.00   50.00    0.50\n",
            "350     350          1.19     78.33   50.00   50.00   50.00    0.50\n",
            "400     400          0.55     28.91   50.00   50.00   50.00    0.50\n",
            "450     450          0.18      6.60   50.00   50.00   50.00    0.50\n",
            "500     500          0.06      1.26   50.00   50.00   50.00    0.50\n",
            "550     550          0.01      0.17   50.00   50.00   50.00    0.50\n",
            "600     600          0.00      0.04   50.00   50.00   50.00    0.50\n",
            "650     650          0.00      0.02   50.00   50.00   50.00    0.50\n",
            "700     700          0.00      0.01   50.00   50.00   50.00    0.50\n",
            "750     750          0.00      0.01   50.00   50.00   50.00    0.50\n",
            "800     800          0.00      0.00   50.00   50.00   50.00    0.50\n",
            "850     850          0.00      0.00   50.00   50.00   50.00    0.50\n",
            "900     900          0.00      0.00   50.00   50.00   50.00    0.50\n",
            "950     950          0.00      0.00   50.00   50.00   50.00    0.50\n",
            "1000    1000          0.00      0.00   50.00   50.00   50.00    0.50\n",
            "1050    1050          0.00      0.00   50.00   50.00   50.00    0.50\n",
            "1100    1100          0.00      0.00   50.00   50.00   50.00    0.50\n",
            "1150    1150          0.00      0.00   50.00   50.00   50.00    0.50\n",
            "1200    1200          0.00      0.00   50.00   50.00   50.00    0.50\n",
            "1250    1250          0.00      0.00   50.00   50.00   50.00    0.50\n",
            "1300    1300          0.00      0.00   50.00   50.00   50.00    0.50\n",
            "1350    1350          0.00      0.00   50.00   50.00   50.00    0.50\n",
            "1400    1400          0.00      0.00   50.00   50.00   50.00    0.50\n",
            "1450    1450          0.00      0.00   50.00   50.00   50.00    0.50\n",
            "1500    1500          0.00      0.00   50.00   50.00   50.00    0.50\n",
            "1550    1550          0.00      0.00   50.00   50.00   50.00    0.50\n",
            "1600    1600          0.00      0.00   50.00   50.00   50.00    0.50\n",
            "1650    1650          0.00      0.00   50.00   50.00   50.00    0.50\n",
            "1700    1700          0.00      0.00   50.00   50.00   50.00    0.50\n",
            "1750    1750          0.00      0.00   50.00   50.00   50.00    0.50\n",
            "1800    1800          0.00      0.00   50.00   50.00   50.00    0.50\n",
            "1850    1850          0.00      0.00   50.00   50.00   50.00    0.50\n",
            "\u001b[38;5;2m✔ Saved pipeline to output directory\u001b[0m\n",
            "output/model-last\n"
          ]
        }
      ]
    },
    {
      "cell_type": "code",
      "source": [
        "nlp_ner = spacy.load(\"output/model-last\")\n",
        "#nlp_ner = spacy.load(\"en_core_web_lg\")"
      ],
      "metadata": {
        "id": "6bmba4tUgLwI"
      },
      "execution_count": 21,
      "outputs": []
    },
    {
      "cell_type": "code",
      "source": [
        "tx2=\"we contacted ajish.kumar@aldahra.com but they said to go to elon_mark@twitter.com and also to Mukesh Channd Ambani to contacrt Gaurav Jain\"\n",
        "doc = nlp_ner(tx2)\n",
        "# Check if named entities are present\n",
        "if doc.ents:\n",
        "    # Visualize named entities\n",
        "    displacy.render(doc, style='ent', options={'distance': 120}, jupyter=True)\n",
        "else:\n",
        "    print(\"No named entities found.\")"
      ],
      "metadata": {
        "colab": {
          "base_uri": "https://localhost:8080/",
          "height": 87
        },
        "id": "laWAPKtLgbXh",
        "outputId": "a534bc27-c3fe-4ad2-a6de-02d35a36e0f5"
      },
      "execution_count": 22,
      "outputs": [
        {
          "output_type": "display_data",
          "data": {
            "text/plain": [
              "<IPython.core.display.HTML object>"
            ],
            "text/html": [
              "<span class=\"tex2jax_ignore\"><div class=\"entities\" style=\"line-height: 2.5; direction: ltr\">we contacted \n",
              "<mark class=\"entity\" style=\"background: #ddd; padding: 0.45em 0.6em; margin: 0 0.25em; line-height: 1; border-radius: 0.35em;\">\n",
              "    ajish.kumar@aldahra.com\n",
              "    <span style=\"font-size: 0.8em; font-weight: bold; line-height: 1; border-radius: 0.35em; vertical-align: middle; margin-left: 0.5rem\">EMAIL ADDRESS</span>\n",
              "</mark>\n",
              " but they said to go to \n",
              "<mark class=\"entity\" style=\"background: #ddd; padding: 0.45em 0.6em; margin: 0 0.25em; line-height: 1; border-radius: 0.35em;\">\n",
              "    elon_mark@twitter.com\n",
              "    <span style=\"font-size: 0.8em; font-weight: bold; line-height: 1; border-radius: 0.35em; vertical-align: middle; margin-left: 0.5rem\">EMAIL ADDRESS</span>\n",
              "</mark>\n",
              " and also to Mukesh Channd Ambani to contacrt Gaurav Jain</div></span>"
            ]
          },
          "metadata": {}
        }
      ]
    }
  ]
}